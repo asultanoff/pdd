{
 "cells": [
  {
   "cell_type": "code",
   "execution_count": null,
   "id": "ac83563c",
   "metadata": {},
   "outputs": [],
   "source": [
    "from fastai import *\n",
    "from fastai.vision.all import *"
   ]
  },
  {
   "cell_type": "code",
   "execution_count": null,
   "id": "ed2f0064",
   "metadata": {},
   "outputs": [],
   "source": [
    "path = Path();path"
   ]
  },
  {
   "cell_type": "code",
   "execution_count": null,
   "id": "1db1b817",
   "metadata": {
    "scrolled": true
   },
   "outputs": [],
   "source": [
    "path.ls()"
   ]
  },
  {
   "cell_type": "code",
   "execution_count": null,
   "id": "007ef613",
   "metadata": {},
   "outputs": [],
   "source": [
    "verify_image('./Sample/992/ad1fc71a4c00ed77f3ea9ea6f7046eaf.jpg')"
   ]
  },
  {
   "cell_type": "code",
   "execution_count": null,
   "id": "7ef4532a",
   "metadata": {},
   "outputs": [],
   "source": [
    "label_file = (path/'newcat.txt')"
   ]
  },
  {
   "cell_type": "code",
   "execution_count": null,
   "id": "ca727786",
   "metadata": {},
   "outputs": [],
   "source": [
    "with open(label_file) as file:\n",
    "    lines = file.readlines()\n",
    "coding_dict = {int(x[:3]):x[3:-1] for x in lines}\n",
    "coding_dict\n",
    "#lines"
   ]
  },
  {
   "cell_type": "code",
   "execution_count": null,
   "id": "d7d8e8cb",
   "metadata": {},
   "outputs": [],
   "source": [
    "def directory_files(dirct: Path) -> list:\n",
    "    Lf = []\n",
    "    if dirct.is_dir():\n",
    "        for d in dirct.iterdir():\n",
    "            Lf.extend(directory_files(d))\n",
    "    else:\n",
    "        Lf.append(str(dirct))   \n",
    "    return Lf"
   ]
  },
  {
   "cell_type": "code",
   "execution_count": null,
   "id": "d1ae3c31",
   "metadata": {},
   "outputs": [],
   "source": [
    "df = pd.DataFrame()"
   ]
  },
  {
   "cell_type": "code",
   "execution_count": null,
   "id": "24cb8a55",
   "metadata": {},
   "outputs": [],
   "source": [
    "df['fname'] = list()\n",
    "df['labels'] = list()"
   ]
  },
  {
   "cell_type": "code",
   "execution_count": null,
   "id": "2e9fa4ea",
   "metadata": {},
   "outputs": [],
   "source": [
    "files = directory_files(path/'Sample');files"
   ]
  },
  {
   "cell_type": "code",
   "execution_count": null,
   "id": "6e86b32e",
   "metadata": {},
   "outputs": [],
   "source": [
    "fname = list()\n",
    "labels = list()\n",
    "for file in files:\n",
    "    code = int(Path(file).parent.name)\n",
    "    if code in coding_dict.keys():\n",
    "        if verify_image(file):\n",
    "            fname.append(file)\n",
    "            labels.append(coding_dict[code])\n",
    "df['fname'] = fname\n",
    "df['labels'] = labels"
   ]
  },
  {
   "cell_type": "code",
   "execution_count": null,
   "id": "29575322",
   "metadata": {
    "scrolled": true
   },
   "outputs": [],
   "source": [
    "df"
   ]
  },
  {
   "cell_type": "code",
   "execution_count": null,
   "id": "43fe4761",
   "metadata": {},
   "outputs": [],
   "source": [
    "dls = ImageDataLoaders.from_df(df, \n",
    "                               path,\n",
    "                               item_tfms=Resize(256), \n",
    "                               batch_tfms=Normalize.from_stats(*imagenet_stats),\n",
    "                               bs=16,\n",
    "                              )"
   ]
  },
  {
   "cell_type": "code",
   "execution_count": null,
   "id": "9dc86572",
   "metadata": {},
   "outputs": [],
   "source": [
    "dls.show_batch()"
   ]
  },
  {
   "cell_type": "code",
   "execution_count": null,
   "id": "aa0105da",
   "metadata": {},
   "outputs": [],
   "source": [
    "learn = cnn_learner(dls, resnet34, metrics=accuracy)"
   ]
  },
  {
   "cell_type": "code",
   "execution_count": null,
   "id": "30587b02",
   "metadata": {},
   "outputs": [],
   "source": [
    "learn.lr_find()"
   ]
  },
  {
   "cell_type": "code",
   "execution_count": null,
   "id": "9ef47036",
   "metadata": {},
   "outputs": [],
   "source": [
    "learn.fine_tune(5)"
   ]
  },
  {
   "cell_type": "code",
   "execution_count": null,
   "id": "dee846f4",
   "metadata": {},
   "outputs": [],
   "source": [
    "learn.show_results()"
   ]
  },
  {
   "cell_type": "code",
   "execution_count": null,
   "id": "b3ab4f14",
   "metadata": {
    "scrolled": true
   },
   "outputs": [],
   "source": [
    "interp = Interpretation.from_learner(learn)\n",
    "inter."
   ]
  },
  {
   "cell_type": "code",
   "execution_count": null,
   "id": "1e4e7075",
   "metadata": {},
   "outputs": [],
   "source": [
    "learn.export('short-model.pkl')"
   ]
  },
  {
   "cell_type": "code",
   "execution_count": null,
   "id": "95b517d7",
   "metadata": {},
   "outputs": [],
   "source": []
  }
 ],
 "metadata": {
  "kernelspec": {
   "display_name": "fastai",
   "language": "python",
   "name": "fastai"
  },
  "language_info": {
   "codemirror_mode": {
    "name": "ipython",
    "version": 3
   },
   "file_extension": ".py",
   "mimetype": "text/x-python",
   "name": "python",
   "nbconvert_exporter": "python",
   "pygments_lexer": "ipython3",
   "version": "3.9.6"
  }
 },
 "nbformat": 4,
 "nbformat_minor": 5
}
