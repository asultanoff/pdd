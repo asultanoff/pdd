{
 "cells": [
  {
   "cell_type": "code",
   "execution_count": null,
   "id": "ac83563c",
   "metadata": {},
   "outputs": [],
   "source": [
    "from fastai import *\n",
    "from fastai.vision.all import *"
   ]
  },
  {
   "cell_type": "code",
   "execution_count": null,
   "id": "ed2f0064",
   "metadata": {},
   "outputs": [],
   "source": [
    "path = Path();path"
   ]
  },
  {
   "cell_type": "code",
   "execution_count": null,
   "id": "1db1b817",
   "metadata": {
    "scrolled": true
   },
   "outputs": [],
   "source": [
    "path.ls()"
   ]
  },
  {
   "cell_type": "code",
   "execution_count": null,
   "id": "7f8cbc61",
   "metadata": {},
   "outputs": [],
   "source": [
    "verify_image('./Sample/992/ad1fc71a4c00ed77f3ea9ea6f7046eaf.jpg')"
   ]
  },
  {
   "cell_type": "code",
   "execution_count": null,
   "id": "933d7fe8",
   "metadata": {},
   "outputs": [],
   "source": [
    "label_file = (path/'newcat.txt')"
   ]
  },
  {
   "cell_type": "code",
   "execution_count": null,
   "id": "4d59af88",
   "metadata": {},
   "outputs": [],
   "source": [
    "with open(label_file) as file:\n",
    "    lines = file.readlines()\n",
    "coding_dict = {int(x[:3]):x[3:-1] for x in lines}\n",
    "coding_dict\n",
    "#lines"
   ]
  },
  {
   "cell_type": "code",
   "execution_count": null,
   "id": "bf97d94a",
   "metadata": {},
   "outputs": [],
   "source": [
    "def directory_files(dirct: Path) -> list:\n",
    "    Lf = []\n",
    "    if dirct.is_dir():\n",
    "        for d in dirct.iterdir():\n",
    "            Lf.extend(directory_files(d))\n",
    "    else:\n",
    "        Lf.append(str(dirct))   \n",
    "    return Lf"
   ]
  },
  {
   "cell_type": "code",
   "execution_count": null,
   "id": "1fe5ee50",
   "metadata": {},
   "outputs": [],
   "source": [
    "df = pd.DataFrame()"
   ]
  },
  {
   "cell_type": "code",
   "execution_count": null,
   "id": "f63da082",
   "metadata": {},
   "outputs": [],
   "source": [
    "df['fname'] = list()\n",
    "df['labels'] = list()"
   ]
  },
  {
   "cell_type": "code",
   "execution_count": null,
   "id": "d538401e",
   "metadata": {},
   "outputs": [],
   "source": [
    "files = directory_files(path/'Sample');files"
   ]
  },
  {
   "cell_type": "code",
   "execution_count": null,
   "id": "16fc0113",
   "metadata": {},
   "outputs": [],
   "source": [
    "fname = list()\n",
    "labels = list()\n",
    "for file in files:\n",
    "    code = int(Path(file).parent.name)\n",
    "    if code in coding_dict.keys():\n",
    "        if verify_image(file):\n",
    "            fname.append(file)\n",
    "            labels.append(coding_dict[code])\n",
    "df['fname'] = fname\n",
    "df['labels'] = labels"
   ]
  },
  {
   "cell_type": "code",
   "execution_count": null,
   "id": "fcf5d2f9",
   "metadata": {
    "scrolled": true
   },
   "outputs": [],
   "source": [
    "df"
   ]
  },
  {
   "cell_type": "code",
   "execution_count": null,
   "id": "aeb6bc2b",
   "metadata": {},
   "outputs": [],
   "source": [
    "dls = ImageDataLoaders.from_df(df, \n",
    "                               path,\n",
    "                               item_tfms=Resize(256), \n",
    "                               batch_tfms=Normalize.from_stats(*imagenet_stats),\n",
    "                               bs=16,\n",
    "                              )"
   ]
  },
  {
   "cell_type": "code",
   "execution_count": null,
   "id": "20248ebd",
   "metadata": {
    "scrolled": true
   },
   "outputs": [],
   "source": [
    "dls.show_batch()"
   ]
  },
  {
   "cell_type": "code",
   "execution_count": null,
   "id": "8ca64bd5",
   "metadata": {},
   "outputs": [],
   "source": [
    "learn = cnn_learner(dls, resnet34, metrics=accuracy)"
   ]
  },
  {
   "cell_type": "code",
   "execution_count": null,
   "id": "36caf83a",
   "metadata": {},
   "outputs": [],
   "source": [
    "learn.lr_find()"
   ]
  },
  {
   "cell_type": "code",
   "execution_count": null,
   "id": "75ca01fd",
   "metadata": {},
   "outputs": [],
   "source": [
    "learn.lr = 2e-3"
   ]
  },
  {
   "cell_type": "code",
   "execution_count": null,
   "id": "925453c3",
   "metadata": {},
   "outputs": [],
   "source": [
    "learn.fine_tune(15)"
   ]
  },
  {
   "cell_type": "code",
   "execution_count": null,
   "id": "d863ec94",
   "metadata": {},
   "outputs": [],
   "source": [
    "learn.show_results()"
   ]
  },
  {
   "cell_type": "code",
   "execution_count": null,
   "id": "9f8bee14",
   "metadata": {
    "scrolled": true
   },
   "outputs": [],
   "source": [
    "interp = Interpretation.from_learner(learn)\n",
    "inter."
   ]
  },
  {
   "cell_type": "code",
   "execution_count": null,
   "id": "0fd1b097",
   "metadata": {},
   "outputs": [],
   "source": [
    "#learn.export('short-model.pkl')"
   ]
  },
  {
   "cell_type": "code",
   "execution_count": null,
   "id": "2913db76",
   "metadata": {},
   "outputs": [],
   "source": []
  }
 ],
 "metadata": {
  "kernelspec": {
   "display_name": "fastai",
   "language": "python",
   "name": "fastai"
  },
  "language_info": {
   "codemirror_mode": {
    "name": "ipython",
    "version": 3
   },
   "file_extension": ".py",
   "mimetype": "text/x-python",
   "name": "python",
   "nbconvert_exporter": "python",
   "pygments_lexer": "ipython3",
   "version": "3.9.6"
  }
 },
 "nbformat": 4,
 "nbformat_minor": 5
}
